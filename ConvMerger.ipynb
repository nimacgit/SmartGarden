{
 "cells": [
  {
   "cell_type": "code",
   "execution_count": 2,
   "metadata": {
    "ExecuteTime": {
     "end_time": "2019-10-04T15:23:58.594987Z",
     "start_time": "2019-10-04T15:23:58.575668Z"
    }
   },
   "outputs": [],
   "source": [
    "%config IPCompleter.greedy=True"
   ]
  },
  {
   "cell_type": "code",
   "execution_count": 3,
   "metadata": {
    "ExecuteTime": {
     "end_time": "2019-10-04T15:24:00.246823Z",
     "start_time": "2019-10-04T15:23:59.307476Z"
    }
   },
   "outputs": [],
   "source": [
    "import pandas as pd"
   ]
  },
  {
   "cell_type": "code",
   "execution_count": 8,
   "metadata": {
    "ExecuteTime": {
     "end_time": "2019-10-04T15:24:51.513024Z",
     "start_time": "2019-10-04T15:24:51.048811Z"
    }
   },
   "outputs": [],
   "source": [
    "dataLocation = \"../data/\"\n",
    "!export dataLocation=\"../data/\"\n",
    "!ls $dataLocation | grep SG* > dataFiles\n",
    "startTime = 1568288795665\n",
    "ltime = 0\n",
    "tmpnames = !cat dataFiles\n",
    "tmpnames = sorted([x[2:] for x in tmpnames])\n",
    "names = [\"SG\"+name for name in tmpnames]"
   ]
  },
  {
   "cell_type": "code",
   "execution_count": 9,
   "metadata": {
    "ExecuteTime": {
     "end_time": "2019-10-04T15:24:51.559597Z",
     "start_time": "2019-10-04T15:24:51.543091Z"
    }
   },
   "outputs": [
    {
     "data": {
      "text/plain": [
       "['SG1']"
      ]
     },
     "execution_count": 9,
     "metadata": {},
     "output_type": "execute_result"
    }
   ],
   "source": [
    "names"
   ]
  },
  {
   "cell_type": "code",
   "execution_count": 10,
   "metadata": {
    "ExecuteTime": {
     "end_time": "2019-10-04T15:24:57.762789Z",
     "start_time": "2019-10-04T15:24:54.069307Z"
    }
   },
   "outputs": [
    {
     "name": "stdout",
     "output_type": "stream",
     "text": [
      "242773\n"
     ]
    }
   ],
   "source": [
    "tmpList = []\n",
    "bigList = []\n",
    "for name in names:\n",
    "    with open(dataLocation + name, 'r') as file:\n",
    "        lines = file.readlines()\n",
    "        lines = [line[:-1] for line in lines]\n",
    "        for i in range(len(lines)//5):\n",
    "            lines[5*i] = str(int(lines[5*i]) + startTime)\n",
    "            bigList.append(lines[5*i:5*i+5])\n",
    "        startTime = int(lines[len(lines)-5])\n",
    "\n",
    "with open(dataLocation + \"master.csv\", 'w') as master:\n",
    "    master.write(\"time,temp,humid,M1,M2,M3\\n\")\n",
    "    for entry in bigList:\n",
    "        time = entry[0]\n",
    "        temp = entry[1].split(\" \")[0][:-1]\n",
    "        humid = entry[1].split(\" \")[1]\n",
    "        M1 = entry[2].split(\" \")[1]\n",
    "        M2 = entry[3].split(\" \")[1]\n",
    "        M3 = entry[4].split(\" \")[1]\n",
    "        master.write(str(time) + \",\" + str(temp) + \",\" + str(humid) + \",\" + str(M1) + \",\" + str(M2) + \",\" + str(M3) + \"\\n\")\n",
    "print(len(bigList))"
   ]
  },
  {
   "cell_type": "code",
   "execution_count": 9,
   "metadata": {
    "ExecuteTime": {
     "end_time": "2019-09-16T15:55:43.479577Z",
     "start_time": "2019-09-16T15:55:43.474233Z"
    }
   },
   "outputs": [],
   "source": [
    "# with open(dataLocation + \"master.csv\", 'r') as master:\n",
    "#     for data in master:\n",
    "#         print(data)"
   ]
  },
  {
   "cell_type": "code",
   "execution_count": null,
   "metadata": {
    "ExecuteTime": {
     "end_time": "2019-09-13T14:07:42.492592Z",
     "start_time": "2019-09-13T14:07:42.451366Z"
    }
   },
   "outputs": [],
   "source": []
  },
  {
   "cell_type": "code",
   "execution_count": null,
   "metadata": {},
   "outputs": [],
   "source": []
  }
 ],
 "metadata": {
  "kernelspec": {
   "display_name": "Python 3",
   "language": "python",
   "name": "python3"
  },
  "language_info": {
   "codemirror_mode": {
    "name": "ipython",
    "version": 3
   },
   "file_extension": ".py",
   "mimetype": "text/x-python",
   "name": "python",
   "nbconvert_exporter": "python",
   "pygments_lexer": "ipython3",
   "version": "3.6.8"
  },
  "toc": {
   "base_numbering": 1,
   "nav_menu": {},
   "number_sections": false,
   "sideBar": false,
   "skip_h1_title": false,
   "title_cell": "Table of Contents",
   "title_sidebar": "Contents",
   "toc_cell": false,
   "toc_position": {},
   "toc_section_display": false,
   "toc_window_display": false
  }
 },
 "nbformat": 4,
 "nbformat_minor": 2
}
