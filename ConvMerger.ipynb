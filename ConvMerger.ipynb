{
 "cells": [
  {
   "cell_type": "code",
   "execution_count": 1,
   "metadata": {
    "ExecuteTime": {
     "end_time": "2019-09-13T12:14:57.534722Z",
     "start_time": "2019-09-13T12:14:57.506709Z"
    }
   },
   "outputs": [],
   "source": [
    "%config IPCompleter.greedy=True"
   ]
  },
  {
   "cell_type": "code",
   "execution_count": 42,
   "metadata": {
    "ExecuteTime": {
     "end_time": "2019-09-13T14:07:38.260884Z",
     "start_time": "2019-09-13T14:07:36.784152Z"
    }
   },
   "outputs": [],
   "source": [
    "import pandas as pd"
   ]
  },
  {
   "cell_type": "code",
   "execution_count": 67,
   "metadata": {
    "ExecuteTime": {
     "end_time": "2019-09-13T15:56:12.558975Z",
     "start_time": "2019-09-13T15:56:11.988580Z"
    }
   },
   "outputs": [],
   "source": [
    "dataLocation = \"../data/\"\n",
    "!export dataLocation=\"../data/\"\n",
    "!ls $dataLocation | grep TERMOHU* > dataFiles\n",
    "startTime = 1568288795665\n",
    "ltime = 0\n",
    "names = !cat dataFiles"
   ]
  },
  {
   "cell_type": "code",
   "execution_count": 68,
   "metadata": {
    "ExecuteTime": {
     "end_time": "2019-09-13T15:56:12.922833Z",
     "start_time": "2019-09-13T15:56:12.646691Z"
    }
   },
   "outputs": [
    {
     "name": "stdout",
     "output_type": "stream",
     "text": [
      "16101\n"
     ]
    }
   ],
   "source": [
    "tmpList = []\n",
    "bigList = []\n",
    "for name in names:\n",
    "    with open(dataLocation + name, 'r') as file:\n",
    "        lines = file.readlines()\n",
    "        lines = [line[:-1] for line in lines]\n",
    "        for i in range(len(lines)//5):\n",
    "            lines[5*i] = str(int(lines[5*i]) + startTime)\n",
    "            bigList.append(lines[5*i:5*i+5])\n",
    "        startTime = int(lines[len(lines)-5])\n",
    "\n",
    "with open(dataLocation + \"master.csv\", 'w') as master:\n",
    "    master.write(\"time,temp,humid,M1,M2,M3\\n\")\n",
    "    for entry in bigList:\n",
    "        time = entry[0]\n",
    "        temp = entry[1].split(\" \")[0][:-1]\n",
    "        humid = entry[1].split(\" \")[1]\n",
    "        M1 = entry[2].split(\" \")[1]\n",
    "        M2 = entry[3].split(\" \")[1]\n",
    "        M3 = entry[4].split(\" \")[1]\n",
    "        master.write(str(time) + \",\" + str(temp) + \",\" + str(humid) + \",\" + str(M1) + \",\" + str(M2) + \",\" + str(M3) + \"\\n\")\n",
    "print(len(bigList))"
   ]
  },
  {
   "cell_type": "code",
   "execution_count": 43,
   "metadata": {
    "ExecuteTime": {
     "end_time": "2019-09-13T14:07:39.261087Z",
     "start_time": "2019-09-13T14:07:39.209091Z"
    }
   },
   "outputs": [],
   "source": [
    "# with open(dataLocation + \"master.csv\", 'r') as master:\n",
    "#     for data in master:\n",
    "#         print(data)"
   ]
  },
  {
   "cell_type": "code",
   "execution_count": null,
   "metadata": {
    "ExecuteTime": {
     "end_time": "2019-09-13T14:07:42.492592Z",
     "start_time": "2019-09-13T14:07:42.451366Z"
    }
   },
   "outputs": [],
   "source": []
  },
  {
   "cell_type": "code",
   "execution_count": null,
   "metadata": {},
   "outputs": [],
   "source": []
  }
 ],
 "metadata": {
  "kernelspec": {
   "display_name": "Python 3",
   "language": "python",
   "name": "python3"
  },
  "language_info": {
   "codemirror_mode": {
    "name": "ipython",
    "version": 3
   },
   "file_extension": ".py",
   "mimetype": "text/x-python",
   "name": "python",
   "nbconvert_exporter": "python",
   "pygments_lexer": "ipython3",
   "version": "3.6.8"
  }
 },
 "nbformat": 4,
 "nbformat_minor": 2
}
