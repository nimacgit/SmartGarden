{
 "cells": [
  {
   "cell_type": "code",
   "execution_count": 1,
   "metadata": {
    "ExecuteTime": {
     "end_time": "2019-10-04T15:25:04.678143Z",
     "start_time": "2019-10-04T15:25:04.644275Z"
    }
   },
   "outputs": [],
   "source": [
    "%config IPCompleter.greedy=True"
   ]
  },
  {
   "cell_type": "code",
   "execution_count": 2,
   "metadata": {
    "ExecuteTime": {
     "end_time": "2019-10-04T15:25:06.325110Z",
     "start_time": "2019-10-04T15:25:05.070446Z"
    }
   },
   "outputs": [],
   "source": [
    "from influxdb import InfluxDBClient\n",
    "import getpass\n",
    "import pandas as pd"
   ]
  },
  {
   "cell_type": "code",
   "execution_count": 3,
   "metadata": {
    "ExecuteTime": {
     "end_time": "2019-10-04T15:25:08.301832Z",
     "start_time": "2019-10-04T15:25:08.088406Z"
    }
   },
   "outputs": [],
   "source": [
    "dataLocation = \"../data/\"\n",
    "!export dataLocation=\"../data/\""
   ]
  },
  {
   "cell_type": "code",
   "execution_count": 5,
   "metadata": {
    "ExecuteTime": {
     "end_time": "2019-10-04T15:26:11.690277Z",
     "start_time": "2019-10-04T15:25:16.058281Z"
    }
   },
   "outputs": [
    {
     "name": "stdout",
     "output_type": "stream",
     "text": [
      "nimac\n",
      "········\n"
     ]
    }
   ],
   "source": [
    "name = input()\n",
    "password = getpass.getpass()"
   ]
  },
  {
   "cell_type": "code",
   "execution_count": 6,
   "metadata": {
    "ExecuteTime": {
     "end_time": "2019-10-04T15:26:13.047829Z",
     "start_time": "2019-10-04T15:26:13.039771Z"
    }
   },
   "outputs": [],
   "source": [
    "client = InfluxDBClient('localhost', 8086, name, password, 'SG')"
   ]
  },
  {
   "cell_type": "code",
   "execution_count": 7,
   "metadata": {
    "ExecuteTime": {
     "end_time": "2019-10-04T15:26:14.372210Z",
     "start_time": "2019-10-04T15:26:14.358361Z"
    }
   },
   "outputs": [],
   "source": [
    "def makeJson(time, temp, humid, M1, M2, M3):\n",
    "    return {\n",
    "            \"measurement\": \"garden\",\n",
    "            \"tags\": {\n",
    "                \"host\": \"server01\",\n",
    "                \"region\": \"us-west\"\n",
    "            },\n",
    "    #         \"time\": \"2009-11-10T23:00:00Z\",\n",
    "            \"time\": str(time),\n",
    "            \"fields\": {\n",
    "                \"temp\": temp,\n",
    "                \"humid\": humid,\n",
    "                \"M1\": M1,\n",
    "                \"M2\": M2,\n",
    "                \"M3\": M3\n",
    "            }\n",
    "        }"
   ]
  },
  {
   "cell_type": "code",
   "execution_count": 11,
   "metadata": {
    "ExecuteTime": {
     "end_time": "2019-10-04T15:31:11.896108Z",
     "start_time": "2019-10-04T15:29:38.880562Z"
    }
   },
   "outputs": [
    {
     "name": "stdout",
     "output_type": "stream",
     "text": [
      "0\n",
      "1\n",
      "2\n",
      "3\n",
      "4\n",
      "5\n",
      "6\n",
      "7\n",
      "8\n",
      "9\n",
      "10\n",
      "11\n",
      "12\n",
      "13\n",
      "14\n",
      "15\n",
      "16\n",
      "17\n",
      "18\n",
      "19\n",
      "20\n",
      "21\n",
      "22\n",
      "23\n",
      "24\n",
      "25\n",
      "26\n",
      "27\n",
      "28\n",
      "29\n",
      "30\n",
      "31\n",
      "32\n",
      "33\n",
      "34\n",
      "35\n",
      "36\n",
      "37\n",
      "38\n",
      "39\n",
      "40\n",
      "41\n",
      "42\n",
      "43\n",
      "44\n",
      "45\n",
      "46\n",
      "47\n",
      "48\n",
      "49\n",
      "50\n",
      "51\n",
      "52\n",
      "53\n",
      "54\n",
      "55\n",
      "56\n",
      "57\n",
      "58\n",
      "59\n",
      "60\n",
      "61\n",
      "62\n",
      "63\n",
      "64\n",
      "65\n",
      "66\n",
      "67\n",
      "68\n",
      "69\n",
      "70\n",
      "71\n",
      "72\n",
      "73\n",
      "74\n",
      "75\n",
      "76\n",
      "77\n",
      "78\n",
      "79\n",
      "80\n",
      "81\n",
      "82\n",
      "83\n",
      "84\n",
      "85\n",
      "86\n",
      "87\n",
      "88\n",
      "89\n",
      "90\n",
      "91\n",
      "92\n",
      "93\n",
      "94\n",
      "95\n",
      "96\n",
      "97\n",
      "98\n"
     ]
    }
   ],
   "source": [
    "def readCsv(dataLocation, csvFileName):\n",
    "    df=pd.read_csv(dataLocation + csvFileName + '.csv', sep=',',header=[0])\n",
    "    return df\n",
    "\n",
    "df = readCsv(dataLocation, \"master\")\n",
    "df[\"time\"] = pd.to_datetime(df['time'], unit='ms')\n",
    "json_body = []\n",
    "\n",
    "done = 0\n",
    "\n",
    "for i in range(len(df)):\n",
    "    time, temp, humid, M1, M2, M3 = df.iloc[i]\n",
    "    json_body.append(makeJson(time, temp, humid, M1, M2, M3))\n",
    "    if((i * 100) // len(df) > done):\n",
    "        print(done+1)\n",
    "        done = (i*100)//len(df)"
   ]
  },
  {
   "cell_type": "code",
   "execution_count": 9,
   "metadata": {
    "ExecuteTime": {
     "end_time": "2019-10-04T15:28:44.911779Z",
     "start_time": "2019-10-04T15:27:44.627929Z"
    }
   },
   "outputs": [
    {
     "data": {
      "text/plain": [
       "True"
      ]
     },
     "execution_count": 9,
     "metadata": {},
     "output_type": "execute_result"
    }
   ],
   "source": [
    "client.write_points(json_body)"
   ]
  },
  {
   "cell_type": "code",
   "execution_count": 77,
   "metadata": {
    "ExecuteTime": {
     "end_time": "2019-09-13T15:30:17.219737Z",
     "start_time": "2019-09-13T15:30:17.210370Z"
    }
   },
   "outputs": [],
   "source": []
  },
  {
   "cell_type": "code",
   "execution_count": 12,
   "metadata": {
    "ExecuteTime": {
     "end_time": "2019-09-13T13:44:31.115550Z",
     "start_time": "2019-09-13T13:44:31.105559Z"
    }
   },
   "outputs": [],
   "source": []
  },
  {
   "cell_type": "code",
   "execution_count": null,
   "metadata": {
    "ExecuteTime": {
     "end_time": "2019-09-13T15:13:40.371618Z",
     "start_time": "2019-09-13T15:13:39.656129Z"
    }
   },
   "outputs": [],
   "source": [
    "result = client.query('select temp from garden;')\n",
    "print(\"Result: {0}\".format(result))"
   ]
  },
  {
   "cell_type": "code",
   "execution_count": null,
   "metadata": {
    "ExecuteTime": {
     "end_time": "2019-09-13T15:12:48.875666Z",
     "start_time": "2019-09-13T15:12:48.863167Z"
    }
   },
   "outputs": [],
   "source": []
  },
  {
   "cell_type": "code",
   "execution_count": null,
   "metadata": {},
   "outputs": [],
   "source": []
  }
 ],
 "metadata": {
  "kernelspec": {
   "display_name": "Python 3",
   "language": "python",
   "name": "python3"
  },
  "language_info": {
   "codemirror_mode": {
    "name": "ipython",
    "version": 3
   },
   "file_extension": ".py",
   "mimetype": "text/x-python",
   "name": "python",
   "nbconvert_exporter": "python",
   "pygments_lexer": "ipython3",
   "version": "3.6.8"
  },
  "toc": {
   "base_numbering": 1,
   "nav_menu": {},
   "number_sections": false,
   "sideBar": false,
   "skip_h1_title": false,
   "title_cell": "Table of Contents",
   "title_sidebar": "Contents",
   "toc_cell": false,
   "toc_position": {},
   "toc_section_display": false,
   "toc_window_display": false
  }
 },
 "nbformat": 4,
 "nbformat_minor": 2
}
