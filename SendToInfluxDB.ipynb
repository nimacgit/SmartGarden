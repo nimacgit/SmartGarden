{
 "cells": [
  {
   "cell_type": "code",
   "execution_count": 1,
   "metadata": {
    "ExecuteTime": {
     "end_time": "2019-09-13T13:38:58.762900Z",
     "start_time": "2019-09-13T13:38:58.734928Z"
    }
   },
   "outputs": [],
   "source": [
    "%config IPCompleter.greedy=True"
   ]
  },
  {
   "cell_type": "code",
   "execution_count": 14,
   "metadata": {
    "ExecuteTime": {
     "end_time": "2019-09-13T14:45:12.002908Z",
     "start_time": "2019-09-13T14:45:11.995458Z"
    }
   },
   "outputs": [],
   "source": [
    "from influxdb import InfluxDBClient\n",
    "import getpass\n",
    "import pandas as pd"
   ]
  },
  {
   "cell_type": "code",
   "execution_count": 17,
   "metadata": {
    "ExecuteTime": {
     "end_time": "2019-09-13T14:45:43.416696Z",
     "start_time": "2019-09-13T14:45:43.220898Z"
    }
   },
   "outputs": [],
   "source": [
    "dataLocation = \"../data/\"\n",
    "!export dataLocation=\"../data/\""
   ]
  },
  {
   "cell_type": "code",
   "execution_count": null,
   "metadata": {
    "ExecuteTime": {
     "end_time": "2019-09-13T14:54:34.101623Z",
     "start_time": "2019-09-13T14:54:34.091845Z"
    }
   },
   "outputs": [],
   "source": []
  },
  {
   "cell_type": "code",
   "execution_count": 79,
   "metadata": {
    "ExecuteTime": {
     "end_time": "2019-09-13T15:44:38.869823Z",
     "start_time": "2019-09-13T15:44:25.960348Z"
    }
   },
   "outputs": [
    {
     "name": "stdout",
     "output_type": "stream",
     "text": [
      "nimac\n",
      "········\n"
     ]
    }
   ],
   "source": [
    "name = input()\n",
    "password = getpass.getpass()\n",
    "client = InfluxDBClient('localhost', 8086, name, password, 'SG')"
   ]
  },
  {
   "cell_type": "code",
   "execution_count": 80,
   "metadata": {
    "ExecuteTime": {
     "end_time": "2019-09-13T15:44:40.598369Z",
     "start_time": "2019-09-13T15:44:40.588067Z"
    }
   },
   "outputs": [],
   "source": [
    "def makeJson(time, temp, humid, M1, M2, M3):\n",
    "    return {\n",
    "            \"measurement\": \"garden\",\n",
    "            \"tags\": {\n",
    "                \"host\": \"server01\",\n",
    "                \"region\": \"us-west\"\n",
    "            },\n",
    "    #         \"time\": \"2009-11-10T23:00:00Z\",\n",
    "            \"time\": str(time),\n",
    "            \"fields\": {\n",
    "                \"temp\": temp,\n",
    "                \"humid\": humid,\n",
    "                \"M1\": M1,\n",
    "                \"M2\": M2,\n",
    "                \"M3\": M3\n",
    "            }\n",
    "        }"
   ]
  },
  {
   "cell_type": "code",
   "execution_count": 84,
   "metadata": {
    "ExecuteTime": {
     "end_time": "2019-09-13T15:58:54.432611Z",
     "start_time": "2019-09-13T15:58:48.354743Z"
    }
   },
   "outputs": [],
   "source": [
    "def readCsv(dataLocation, csvFileName):\n",
    "    df=pd.read_csv(dataLocation + csvFileName + '.csv', sep=',',header=[0])\n",
    "    return df\n",
    "\n",
    "df = readCsv(dataLocation, \"master\")\n",
    "df[\"time\"] = pd.to_datetime(df['time'], unit='ms')\n",
    "json_body = []\n",
    "\n",
    "for i in range(len(df)):\n",
    "    time, temp, humid, M1, M2, M3 = df.iloc[i]\n",
    "    json_body.append(makeJson(time, temp, humid, M1, M2, M3))"
   ]
  },
  {
   "cell_type": "code",
   "execution_count": 85,
   "metadata": {
    "ExecuteTime": {
     "end_time": "2019-09-13T15:58:58.804025Z",
     "start_time": "2019-09-13T15:58:54.438983Z"
    }
   },
   "outputs": [
    {
     "data": {
      "text/plain": [
       "True"
      ]
     },
     "execution_count": 85,
     "metadata": {},
     "output_type": "execute_result"
    }
   ],
   "source": [
    "client.write_points(json_body)"
   ]
  },
  {
   "cell_type": "code",
   "execution_count": 77,
   "metadata": {
    "ExecuteTime": {
     "end_time": "2019-09-13T15:30:17.219737Z",
     "start_time": "2019-09-13T15:30:17.210370Z"
    }
   },
   "outputs": [],
   "source": []
  },
  {
   "cell_type": "code",
   "execution_count": 12,
   "metadata": {
    "ExecuteTime": {
     "end_time": "2019-09-13T13:44:31.115550Z",
     "start_time": "2019-09-13T13:44:31.105559Z"
    }
   },
   "outputs": [],
   "source": []
  },
  {
   "cell_type": "code",
   "execution_count": null,
   "metadata": {
    "ExecuteTime": {
     "end_time": "2019-09-13T15:13:40.371618Z",
     "start_time": "2019-09-13T15:13:39.656129Z"
    }
   },
   "outputs": [],
   "source": [
    "result = client.query('select temp from garden;')\n",
    "print(\"Result: {0}\".format(result))"
   ]
  },
  {
   "cell_type": "code",
   "execution_count": null,
   "metadata": {
    "ExecuteTime": {
     "end_time": "2019-09-13T15:12:48.875666Z",
     "start_time": "2019-09-13T15:12:48.863167Z"
    }
   },
   "outputs": [],
   "source": []
  },
  {
   "cell_type": "code",
   "execution_count": null,
   "metadata": {},
   "outputs": [],
   "source": []
  }
 ],
 "metadata": {
  "kernelspec": {
   "display_name": "Python 3",
   "language": "python",
   "name": "python3"
  },
  "language_info": {
   "codemirror_mode": {
    "name": "ipython",
    "version": 3
   },
   "file_extension": ".py",
   "mimetype": "text/x-python",
   "name": "python",
   "nbconvert_exporter": "python",
   "pygments_lexer": "ipython3",
   "version": "3.6.8"
  }
 },
 "nbformat": 4,
 "nbformat_minor": 2
}
